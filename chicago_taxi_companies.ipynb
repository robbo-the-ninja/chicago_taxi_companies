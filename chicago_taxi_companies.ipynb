{
 "cells": [
  {
   "cell_type": "markdown",
   "metadata": {},
   "source": [
    "# Paso 4. Análisis exploratorio de datos (Python)\n",
    "## Familiarización con los DataFrames y limpieza de datos\n",
    "Contamos con dos nuevos archivos CSV. Vamos a familiarizarnos con ellos.\n",
    "### Importación de los archivos\n"
   ]
  },
  {
   "cell_type": "code",
   "execution_count": 1,
   "metadata": {},
   "outputs": [],
   "source": [
    "# Primero cargamos nuestro querido pandas, algunas librerías para graficar y los archivos.\n",
    "import pandas as pd\n",
    "import matplotlib.pyplot as plt\n",
    "import seaborn as sns\n",
    "\n",
    "df_1 = pd.read_csv('/datasets/project_sql_result_01.csv')\n",
    "df_2 = pd.read_csv('/datasets/project_sql_result_04.csv')"
   ]
  },
  {
   "cell_type": "markdown",
   "metadata": {},
   "source": [
    "### Estudio y familiarización de los datos"
   ]
  },
  {
   "cell_type": "code",
   "execution_count": 2,
   "metadata": {},
   "outputs": [
    {
     "name": "stdout",
     "output_type": "stream",
     "text": [
      "                      company_name  trips_amount\n",
      "0                        Flash Cab         19558\n",
      "1        Taxi Affiliation Services         11422\n",
      "2                Medallion Leasing         10367\n",
      "3                       Yellow Cab          9888\n",
      "4  Taxi Affiliation Service Yellow          9299\n",
      "\n",
      "  dropoff_location_name  average_trips\n",
      "0                  Loop   10727.466667\n",
      "1           River North    9523.666667\n",
      "2         Streeterville    6664.666667\n",
      "3             West Loop    5163.666667\n",
      "4                O'Hare    2546.900000\n"
     ]
    }
   ],
   "source": [
    "# Vamos a darle un vistazo a las primeras columnas.\n",
    "# Primera tabla. Contiene a las compañías y sus viajes.\n",
    "print(df_1.head()) \n",
    "print()\n",
    "\n",
    "# Segunda tabla. Contiene los destinos y el promedio de viajes.\n",
    "print(df_2.head())"
   ]
  },
  {
   "cell_type": "markdown",
   "metadata": {},
   "source": [
    "La __primera tabla__ contiene 'company_name': nombre de la empresa; y 'trips_amount': el número de viajes de cada compañía de taxis el 15 y 16 de noviembre de 2017. __Flash Cab__ tuvo muchísimos más viajes que la competencia durante esos dos días; hay una diferencia de más de 8000 viajes entre ellos y __Taxi Affiliation Services__, que es el segundo lugar.\n",
    "\n",
    "La __segunda tabla__ incluye dos columnas. La primera es 'dropoff_location_name': barrios de Chicago donde finalizaron los viajes; y 'average_trips': el promedio de viajes que terminaron en cada barrio en noviembre de 2017. Por algún motivo los datos de 'average_trips' tienen seis números decimales. En cuanto a destinos, __Loop__ es el barrio preferido, seguido de cerca por  __River North__ y más lejos tenemos a __Streeterville__. "
   ]
  },
  {
   "cell_type": "markdown",
   "metadata": {},
   "source": [
    "### Aseguramiento de que el tipo de datos es correcto"
   ]
  },
  {
   "cell_type": "code",
   "execution_count": 3,
   "metadata": {},
   "outputs": [
    {
     "name": "stdout",
     "output_type": "stream",
     "text": [
      "<class 'pandas.core.frame.DataFrame'>\n",
      "RangeIndex: 64 entries, 0 to 63\n",
      "Data columns (total 2 columns):\n",
      " #   Column        Non-Null Count  Dtype \n",
      "---  ------        --------------  ----- \n",
      " 0   company_name  64 non-null     object\n",
      " 1   trips_amount  64 non-null     int64 \n",
      "dtypes: int64(1), object(1)\n",
      "memory usage: 1.1+ KB\n",
      "None\n",
      "\n"
     ]
    }
   ],
   "source": [
    "# Veamos el tipo de datos, número de filas, etc. del primer DataFrame.\n",
    "\n",
    "print(df_1.info())\n",
    "print()"
   ]
  },
  {
   "cell_type": "markdown",
   "metadata": {},
   "source": [
    "Las columnas respetan la convención snake_case y los tipos de datos están correctos. No hay datos nulos en el primer DataFrame."
   ]
  },
  {
   "cell_type": "code",
   "execution_count": 4,
   "metadata": {
    "scrolled": true
   },
   "outputs": [
    {
     "name": "stdout",
     "output_type": "stream",
     "text": [
      "<class 'pandas.core.frame.DataFrame'>\n",
      "RangeIndex: 94 entries, 0 to 93\n",
      "Data columns (total 2 columns):\n",
      " #   Column                 Non-Null Count  Dtype  \n",
      "---  ------                 --------------  -----  \n",
      " 0   dropoff_location_name  94 non-null     object \n",
      " 1   average_trips          94 non-null     float64\n",
      "dtypes: float64(1), object(1)\n",
      "memory usage: 1.6+ KB\n",
      "None\n",
      "\n"
     ]
    }
   ],
   "source": [
    "# Veamos el tipo de datos, número de filas, etc. del segundo DataFrame.\n",
    "\n",
    "print(df_2.info())\n",
    "print()"
   ]
  },
  {
   "cell_type": "markdown",
   "metadata": {},
   "source": [
    "Si bien en el segundo DataFrame no hay nulos y se respeta la convención snake_case en las columnas, como vimos anteriormente los datos de 'average_trips' tienen seis decimales. Tanta precisión es innescesaria y podría confudirnos. Hagamos algo al respecto. Estamos analizando el número promedio de viajes y las diferencias son de cientos o miles de viajes promedio entre cada destino. Vamos a dejar un solo decimal:"
   ]
  },
  {
   "cell_type": "code",
   "execution_count": 5,
   "metadata": {},
   "outputs": [
    {
     "name": "stdout",
     "output_type": "stream",
     "text": [
      "<class 'pandas.core.frame.DataFrame'>\n",
      "RangeIndex: 94 entries, 0 to 93\n",
      "Data columns (total 2 columns):\n",
      " #   Column                 Non-Null Count  Dtype  \n",
      "---  ------                 --------------  -----  \n",
      " 0   dropoff_location_name  94 non-null     object \n",
      " 1   average_trips          94 non-null     float64\n",
      "dtypes: float64(1), object(1)\n",
      "memory usage: 1.6+ KB\n",
      "None\n",
      "\n",
      "  dropoff_location_name  average_trips\n",
      "0                  Loop        10727.5\n",
      "1           River North         9523.7\n",
      "2         Streeterville         6664.7\n",
      "3             West Loop         5163.7\n",
      "4                O'Hare         2546.9\n"
     ]
    }
   ],
   "source": [
    "# Con la función 'round' redondeamos a un sólo decimal.\n",
    "df_2['average_trips'] = df_2['average_trips'].round(1)\n",
    "\n",
    "# Pequeña comprobación\n",
    "print(df_2.info())\n",
    "print()\n",
    "print(df_2.head())"
   ]
  },
  {
   "cell_type": "markdown",
   "metadata": {},
   "source": [
    "Con esta breve identificación y limpieza de datos, estamos listos para empezar nuestro análisis exploratorio de datos. \n",
    "\n",
    "## Inicio del análisis exploratorio\n",
    "### Identificación de los 10 principales barrios en términos de finalización del recorrido\n",
    "Veamos cuáles son los barrios más populares como destino."
   ]
  },
  {
   "cell_type": "code",
   "execution_count": 6,
   "metadata": {},
   "outputs": [
    {
     "name": "stdout",
     "output_type": "stream",
     "text": [
      "  dropoff_location_name  average_trips\n",
      "0                  Loop        10727.5\n",
      "1           River North         9523.7\n",
      "2         Streeterville         6664.7\n",
      "3             West Loop         5163.7\n",
      "4                O'Hare         2546.9\n",
      "5             Lake View         2421.0\n",
      "6            Grant Park         2068.5\n",
      "7         Museum Campus         1510.0\n",
      "8            Gold Coast         1364.2\n",
      "9    Sheffield & DePaul         1259.8\n"
     ]
    }
   ],
   "source": [
    "# Creamos la variable 'top_destinations'.\n",
    "top_destinations = df_2.head(10)\n",
    "print(top_destinations)\n"
   ]
  },
  {
   "cell_type": "markdown",
   "metadata": {},
   "source": [
    "Gracias a la gráfica podemos apreciar cuatro claros preferidos: __Loop, River North, Streeterville y West Loop__."
   ]
  },
  {
   "cell_type": "markdown",
   "metadata": {},
   "source": [
    "### Realización de gráficos: empresas de taxis y número de viajes, los 10 barrios principales por número de finalizaciones\n",
    "A continuación graficaremos los destinos más populares durante el mes de noviembre de 2017 y las compañías con más viajes los días 15 y 16 de noviembre de 2017."
   ]
  },
  {
   "cell_type": "code",
   "execution_count": 7,
   "metadata": {},
   "outputs": [
    {
     "data": {
      "image/png": "[encoded data removed]",
      "text/plain": [
       "<Figure size 640x480 with 1 Axes>"
      ]
     },
     "metadata": {},
     "output_type": "display_data"
    },
    {
     "name": "stdout",
     "output_type": "stream",
     "text": [
      "La cantidad total de viajes promedio durante noviembre de 2017 es de 56395.7.\n",
      "\n",
      "Los cuatro destinos principales concentran el 56.9% del total de viajes promedio.\n"
     ]
    }
   ],
   "source": [
    "# Vamos a graficar la información anterior con ayuda de la variable 'top_destinations'\n",
    "top_destinations.plot(kind = 'bar',\n",
    "                     x = 'dropoff_location_name',\n",
    "                     y = 'average_trips',\n",
    "                     title = \"Top 10 Chicago's destinations in November 2017\",\n",
    "                     xlabel = 'Destination',\n",
    "                     ylabel = \"Average of trips\",\n",
    "                     legend = False,\n",
    "                     color = 'red',\n",
    "                     rot = '55'\n",
    "                     )\n",
    "plt.show()\n",
    "\n",
    "# Calculemos la cantidad total de viajes promedio.\n",
    "total_average_destinations = df_2['average_trips'].sum().round(1) # Lo mismo, con 'round' evitamos decimales innescesarios.\n",
    "\n",
    "# Imprimamos la cantidad total de viajes promedio. \n",
    "print(f'La cantidad total de viajes promedio durante noviembre de 2017 es de {total_average_destinations}.')\n",
    "print()\n",
    "\n",
    "# Vamos a calcular qué porcentaje abarcan los primeros cuatro destinos.\n",
    "top_4_sum = top_destinations.head(4)['average_trips'].sum().round(1)\n",
    "percentage_top4 = ((top_4_sum / total_average_destinations) * 100).round(1)\n",
    "\n",
    "#Impresión de los resultados.\n",
    "print(f\"Los cuatro destinos principales concentran el {percentage_top4}% del total de viajes promedio.\")\n"
   ]
  },
  {
   "cell_type": "markdown",
   "metadata": {},
   "source": [
    "__The Loop__ fue el destino preferido. Es una zona turística popular en Chicago, así como __River North__, __Streeterville__ y __West Loop__. Su éxito tiene sentido. Según una pequeño vistazo en Google todas estas áreas son céntricas. Durante ese mes, las personas viajaron principalmente al centro de Chicago."
   ]
  },
  {
   "cell_type": "code",
   "execution_count": 8,
   "metadata": {},
   "outputs": [
    {
     "name": "stdout",
     "output_type": "stream",
     "text": [
      "                        company_name  trips_amount\n",
      "0                          Flash Cab         19558\n",
      "1          Taxi Affiliation Services         11422\n",
      "2                  Medallion Leasing         10367\n",
      "3                         Yellow Cab          9888\n",
      "4    Taxi Affiliation Service Yellow          9299\n",
      "5          Chicago Carriage Cab Corp          9181\n",
      "6                       City Service          8448\n",
      "7                           Sun Taxi          7701\n",
      "8          Star North Management LLC          7455\n",
      "9  Blue Ribbon Taxi Association Inc.          5953\n"
     ]
    },
    {
     "data": {
      "image/png": "[encoded data removed]",
      "text/plain": [
       "<Figure size 640x480 with 1 Axes>"
      ]
     },
     "metadata": {},
     "output_type": "display_data"
    },
    {
     "name": "stdout",
     "output_type": "stream",
     "text": [
      "La cantidad total de viajes es de 137311.\n",
      "\n",
      "Flash Cab concentra el 14.2% del total de viajes.\n"
     ]
    }
   ],
   "source": [
    "# Creemos la variable 'top_companies'.\n",
    "top_companies = df_1.head(10)\n",
    "print(top_companies)\n",
    "\n",
    "# Vamos a graficar la información anterior con ayuda de la variable 'top_companies'\n",
    "top_companies.plot(kind = 'bar',\n",
    "                     x = 'company_name',\n",
    "                     y = 'trips_amount',\n",
    "                     title = \"Top 10 taxi companies (from November 16th to November 17th, 2017)\",\n",
    "                     xlabel = 'Company',\n",
    "                     ylabel = \"Amount of trips\",\n",
    "                     legend = False,\n",
    "                     color = 'red',\n",
    "                     rot = '55'\n",
    "                     )\n",
    "plt.show()\n",
    "total_trips = df_1['trips_amount'].sum()\n",
    "print(f'La cantidad total de viajes es de {total_trips}.')\n",
    "\n",
    "# Calculemos que porcentaje de viajes pertenece a Flash Cab.\n",
    "flash_cab_percentage = ((19558 / total_trips) * 100).round(1)\n",
    "print()\n",
    "\n",
    "#Impresión de los resultados.\n",
    "print(f\"Flash Cab concentra el {flash_cab_percentage}% del total de viajes.\")\n",
    "\n"
   ]
  },
  {
   "cell_type": "markdown",
   "metadata": {},
   "source": [
    "Durante los días 16 y 17 de noviembre de 2017, hay un claro ganador: __Flash Cab__. Valdría la pena averiguar cómo lo logran. ¿Ofrecen descuentos por viajar a esa zona? ¿Sus precios en general son mejores? ¿El estado de sus unidades es mejor? ¿Cuentan con mejores conductores?"
   ]
  },
  {
   "cell_type": "markdown",
   "metadata": {},
   "source": [
    "## Conclusión\n",
    "El mercado de viajes durante __noviembre de 2017__ en __Chicago__ estuvo concentrado en pocas empresas y pocos barrios. Una compañía nueva podría concentrarse en la parte de mercado que tiene __Flash Cab__ a través de ofrecer viajes a las zonas más populares (__Loop__, __River North__, etc.)"
   ]
  },
  {
   "cell_type": "markdown",
   "metadata": {},
   "source": [
    "# Paso 5. Prueba de hipótesis (Python)\n",
    "##  Familiarización con los DataFrames y limpieza de datos\n",
    "Tenemos un nuevo DataFrame. Es el resultado de la última consulta que hicimos con las tablas de SQL. Contiene datos sobre viajes desde el Loop hasta el Aeropuerto Internacional O'Hare. Solamente contiene los días que fueron sábados. Vamos a echarle un vistazo.\n",
    "### Importación del archivo, estudio y familiarización"
   ]
  },
  {
   "cell_type": "code",
   "execution_count": 9,
   "metadata": {},
   "outputs": [
    {
     "name": "stdout",
     "output_type": "stream",
     "text": [
      "<class 'pandas.core.frame.DataFrame'>\n",
      "RangeIndex: 1068 entries, 0 to 1067\n",
      "Data columns (total 3 columns):\n",
      " #   Column              Non-Null Count  Dtype  \n",
      "---  ------              --------------  -----  \n",
      " 0   start_ts            1068 non-null   object \n",
      " 1   weather_conditions  1068 non-null   object \n",
      " 2   duration_seconds    1068 non-null   float64\n",
      "dtypes: float64(1), object(2)\n",
      "memory usage: 25.2+ KB\n",
      "None\n",
      "\n",
      "              start_ts weather_conditions  duration_seconds\n",
      "0  2017-11-25 16:00:00               Good            2410.0\n",
      "1  2017-11-25 14:00:00               Good            1920.0\n",
      "2  2017-11-25 12:00:00               Good            1543.0\n",
      "3  2017-11-04 10:00:00               Good            2512.0\n",
      "4  2017-11-11 07:00:00               Good            1440.0\n"
     ]
    }
   ],
   "source": [
    "df_3 = pd.read_csv('/datasets/project_sql_result_07.csv')\n",
    "\n",
    "print(df_3.info())\n",
    "print()\n",
    "print(df_3.head())"
   ]
  },
  {
   "cell_type": "markdown",
   "metadata": {},
   "source": [
    "No hay datos nulos y las columnas respetan la convención snake_case. Como vamos a trabajar con las fechas y con segundos, tendremos que modificar los tipos de datos. Como sabemos, el valor 'Good' en 'weather_conditions' hace referencia a días sin lluvia; el valor 'Bad' hace referencia a días con lluvia.\n",
    "\n",
    "- La columna 'start_ts' debería tener datos de tipo datetime.\n",
    "\n",
    "- La columna 'weather_conditions' está bien.\n",
    "\n",
    "- La columna 'duration_seconds' tiene decimales, los cuales no son necesarios.\n",
    "\n",
    "### Limpieza de los datos\n",
    "Primero convertiremos la columna 'start_ts' a datetime para poder extraer sus datos."
   ]
  },
  {
   "cell_type": "code",
   "execution_count": 10,
   "metadata": {
    "scrolled": true
   },
   "outputs": [
    {
     "name": "stdout",
     "output_type": "stream",
     "text": [
      "<class 'pandas.core.frame.DataFrame'>\n",
      "RangeIndex: 1068 entries, 0 to 1067\n",
      "Data columns (total 3 columns):\n",
      " #   Column              Non-Null Count  Dtype         \n",
      "---  ------              --------------  -----         \n",
      " 0   start_ts            1068 non-null   datetime64[ns]\n",
      " 1   weather_conditions  1068 non-null   object        \n",
      " 2   duration_seconds    1068 non-null   float64       \n",
      "dtypes: datetime64[ns](1), float64(1), object(1)\n",
      "memory usage: 25.2+ KB\n",
      "None\n"
     ]
    }
   ],
   "source": [
    "# Usaremos el método de pandas 'to_datetime'.\n",
    "df_3['start_ts'] = pd.to_datetime(df_3['start_ts'])\n",
    "\n",
    "# Pequeña comprobación.\n",
    "print(df_3.info())"
   ]
  },
  {
   "cell_type": "markdown",
   "metadata": {},
   "source": [
    "A continuación convertiremos la columna 'duration_seconds' a enteros"
   ]
  },
  {
   "cell_type": "code",
   "execution_count": 11,
   "metadata": {},
   "outputs": [
    {
     "name": "stdout",
     "output_type": "stream",
     "text": [
      "<class 'pandas.core.frame.DataFrame'>\n",
      "RangeIndex: 1068 entries, 0 to 1067\n",
      "Data columns (total 3 columns):\n",
      " #   Column              Non-Null Count  Dtype         \n",
      "---  ------              --------------  -----         \n",
      " 0   start_ts            1068 non-null   datetime64[ns]\n",
      " 1   weather_conditions  1068 non-null   object        \n",
      " 2   duration_seconds    1068 non-null   int64         \n",
      "dtypes: datetime64[ns](1), int64(1), object(1)\n",
      "memory usage: 25.2+ KB\n",
      "None\n"
     ]
    }
   ],
   "source": [
    "# Nos podemos deshacer de los decimales al cambiar el tipo de datos a enteros.\n",
    "df_3['duration_seconds'] = df_3['duration_seconds'].astype(int)\n",
    "\n",
    "# Pequeña comprobación.\n",
    "print(df_3.info())"
   ]
  },
  {
   "cell_type": "markdown",
   "metadata": {},
   "source": [
    "Vamos a comprobar si todos los días de la semana que incluye este DataFrame son sábados."
   ]
  },
  {
   "cell_type": "code",
   "execution_count": 12,
   "metadata": {},
   "outputs": [
    {
     "name": "stdout",
     "output_type": "stream",
     "text": [
      "Saturday    1068\n",
      "Name: day_of_week, dtype: int64\n"
     ]
    }
   ],
   "source": [
    "# Con 'dt.day_name' podemos extraer los días de la semana ya que el tipo de dato es ahora de tipo datetime. \n",
    "# Almacenaremos los días en la columna 'day_of_the_week'\n",
    "df_3['day_of_week'] = df_3['start_ts'].dt.day_name()\n",
    "\n",
    "# Vamos a contar los registros por día e imprimirlos.\n",
    "day_counts = df_3['day_of_week'].value_counts()\n",
    "print(day_counts)\n"
   ]
  },
  {
   "cell_type": "markdown",
   "metadata": {},
   "source": [
    "Hay 1068 sábados. Ese mismo número es el total de filas. El DataFrame solo incluye sábados. Filtremos con base la información de 'weather_conditions'."
   ]
  },
  {
   "cell_type": "code",
   "execution_count": 13,
   "metadata": {
    "scrolled": true
   },
   "outputs": [],
   "source": [
    "# Filtrado de los sábados lluviosos.\n",
    "saturday_rain = df_3[df_3['weather_conditions'] == 'Bad']\n",
    "\n",
    "# Filtrado de los sábados no lluviosos.\n",
    "saturday_no_rain = df_3[df_3['weather_conditions'] == 'Good']  \n"
   ]
  },
  {
   "cell_type": "markdown",
   "metadata": {},
   "source": [
    "## Prueba de hipótesis"
   ]
  },
  {
   "cell_type": "markdown",
   "metadata": {},
   "source": [
    "### Hipótesis\n",
    "\n",
    "Ésta es la hipótesis que vamos a poner a prueba:\n",
    "\n",
    "\"__La duración promedio de los viajes desde el Loop hasta el Aeropuerto Internacional O'Hare cambia los sábados lluviosos\"__.\n",
    "\n",
    "### Planteamiento de hipótesis\n",
    "- Hipótesis nula: \n",
    "\n",
    "\"No hay diferencia significativa en la duración promedio entre sábados lluviosos y otros días\".\n",
    "\n",
    "- Hipótesis alternativa:\n",
    "\n",
    "\"Existe diferencia significativa en la duración promedio\".\n",
    " \n",
    "Ya que tenemos los datos de sábados con lluvia y sin lluvia, podemos comparar las muestras. Usaremos una __prueba t de Student__ para comparar las medias de ambos registros porque comparamos dos grupos independientes (viajes en sábados lluviosos y no lluviosos) y las mediciones no son exactamente de los mismos sujetos (usuarios).\n",
    "\n",
    "Para comprobar si 'equal_var' pasa como True o False (que las varianzas sean iguales o no), podemos echar un ojo a las varianzas."
   ]
  },
  {
   "cell_type": "code",
   "execution_count": 14,
   "metadata": {
    "scrolled": true
   },
   "outputs": [
    {
     "name": "stdout",
     "output_type": "stream",
     "text": [
      "Varianza de los sábados lluviosos: duration_seconds    517403.563302\n",
      "dtype: float64\n",
      "Varianza de los sábados no lluviosos: duration_seconds    575732.93085\n",
      "dtype: float64\n"
     ]
    }
   ],
   "source": [
    "import numpy as np\n",
    "\n",
    "# Calcular varianzas\n",
    "var_rain = np.var(saturday_rain)\n",
    "var_no_rain = np.var(saturday_no_rain)\n",
    "\n",
    "print(f\"Varianza de los sábados lluviosos: {var_rain:}\")\n",
    "print(f\"Varianza de los sábados no lluviosos: {var_no_rain:}\")"
   ]
  },
  {
   "cell_type": "markdown",
   "metadata": {},
   "source": [
    "Las varianzas lucen similares, además las muestras se toman de poblaciones con parámetros similares. Vamos a realizar __la prueba t__."
   ]
  },
  {
   "cell_type": "code",
   "execution_count": 15,
   "metadata": {
    "scrolled": true
   },
   "outputs": [
    {
     "name": "stdout",
     "output_type": "stream",
     "text": [
      "valor p: 6.517970327099473e-12\n",
      "Rechazamos la hipótesis nula: Hay diferencia significativa en la duración de los viajes.\n"
     ]
    }
   ],
   "source": [
    "from scipy import stats as st\n",
    "import numpy as np\n",
    "\n",
    "# Datos de duración de viajes.\n",
    "saturday_rain = df_3[df_3['weather_conditions'] == 'Bad']['duration_seconds']\n",
    "saturday_no_rain = df_3[df_3['weather_conditions'] == 'Good']['duration_seconds']\n",
    "\n",
    "# Nivel de significación estadística.\n",
    "alpha = 0.05  \n",
    "\n",
    "# Prueba t para muestras independientes con varianzas similares\n",
    "results = st.ttest_ind(saturday_rain, saturday_no_rain, equal_var=True)\n",
    "\n",
    "print('valor p:', results.pvalue)\n",
    "\n",
    "if results.pvalue < alpha:\n",
    "    print(\"Rechazamos la hipótesis nula: Hay diferencia significativa en la duración de los viajes.\")\n",
    "else:\n",
    "    print(\"No podemos rechazar la hipótesis nula: No hay diferencia significativa.\")"
   ]
  },
  {
   "cell_type": "markdown",
   "metadata": {},
   "source": [
    "### Conclusión\n",
    "\n",
    "Rechazamos la hipótesis nula. La diferencia del promedio de duración en segundos es considerablemente alta a nivel estadístico. La compañía puede anticipar viajes más largos los sábados con lluvia y ajustar sus servicios y ofertas con base en ello.\n",
    "\n",
    "Podría ser que la lluvia provoque más tráfico, que hace que los conductores conduzcan más lento o que los usuarios prefieran usar más un taxi, o una combinación de ésas y otras variables. Los datos que tenemos en este DataFrame no nos permiten saber si con lluvia el número de viajes es mayor o no; ésa hubiera sido una hipótesis interesante de comprobar."
   ]
  }
 ],
 "metadata": {
  "ExecuteTimeLog": [
   {
    "duration": 331,
    "start_time": "2025-05-06T19:55:24.078Z"
   },
   {
    "duration": 12,
    "start_time": "2025-05-06T19:55:49.850Z"
   },
   {
    "duration": 11,
    "start_time": "2025-05-06T19:55:58.605Z"
   },
   {
    "duration": 11,
    "start_time": "2025-05-06T19:57:32.645Z"
   },
   {
    "duration": 5,
    "start_time": "2025-05-06T20:02:11.759Z"
   },
   {
    "duration": 9,
    "start_time": "2025-05-06T20:02:25.908Z"
   },
   {
    "duration": 4,
    "start_time": "2025-05-06T20:02:52.802Z"
   },
   {
    "duration": 12,
    "start_time": "2025-05-06T20:03:12.040Z"
   },
   {
    "duration": 8,
    "start_time": "2025-05-06T20:04:06.865Z"
   },
   {
    "duration": 7,
    "start_time": "2025-05-06T20:04:43.547Z"
   },
   {
    "duration": 8,
    "start_time": "2025-05-06T20:05:11.652Z"
   },
   {
    "duration": 8,
    "start_time": "2025-05-06T20:05:13.898Z"
   },
   {
    "duration": 10,
    "start_time": "2025-05-06T21:35:36.736Z"
   },
   {
    "duration": 21,
    "start_time": "2025-05-06T21:35:45.331Z"
   },
   {
    "duration": 9,
    "start_time": "2025-05-06T21:36:06.301Z"
   },
   {
    "duration": 8,
    "start_time": "2025-05-06T21:37:47.989Z"
   },
   {
    "duration": 179,
    "start_time": "2025-05-06T23:09:02.517Z"
   },
   {
    "duration": 7,
    "start_time": "2025-05-06T23:09:17.933Z"
   },
   {
    "duration": 9,
    "start_time": "2025-05-06T23:09:27.242Z"
   },
   {
    "duration": 10,
    "start_time": "2025-05-06T23:09:45.577Z"
   },
   {
    "duration": 10,
    "start_time": "2025-05-06T23:09:55.579Z"
   },
   {
    "duration": 13,
    "start_time": "2025-05-06T23:12:58.587Z"
   },
   {
    "duration": 17,
    "start_time": "2025-05-06T23:13:04.176Z"
   },
   {
    "duration": 9,
    "start_time": "2025-05-06T23:13:11.233Z"
   },
   {
    "duration": 2606,
    "start_time": "2025-05-06T23:13:21.753Z"
   },
   {
    "duration": 9,
    "start_time": "2025-05-06T23:13:24.361Z"
   },
   {
    "duration": 9,
    "start_time": "2025-05-06T23:13:24.371Z"
   },
   {
    "duration": 8,
    "start_time": "2025-05-06T23:13:24.382Z"
   },
   {
    "duration": 9,
    "start_time": "2025-05-06T23:18:03.315Z"
   },
   {
    "duration": 526,
    "start_time": "2025-05-06T23:23:26.411Z"
   },
   {
    "duration": 32,
    "start_time": "2025-05-06T23:23:41.632Z"
   },
   {
    "duration": 4,
    "start_time": "2025-05-06T23:24:22.425Z"
   },
   {
    "duration": 4,
    "start_time": "2025-05-06T23:24:31.410Z"
   },
   {
    "duration": 6,
    "start_time": "2025-05-06T23:26:10.950Z"
   },
   {
    "duration": 13,
    "start_time": "2025-05-06T23:26:14.764Z"
   },
   {
    "duration": 4,
    "start_time": "2025-05-06T23:26:28.353Z"
   },
   {
    "duration": 3,
    "start_time": "2025-05-06T23:26:54.812Z"
   },
   {
    "duration": 3,
    "start_time": "2025-05-06T23:27:02.126Z"
   },
   {
    "duration": 4,
    "start_time": "2025-05-06T23:28:08.314Z"
   },
   {
    "duration": 3,
    "start_time": "2025-05-06T23:28:14.511Z"
   },
   {
    "duration": 138,
    "start_time": "2025-05-06T23:29:52.974Z"
   },
   {
    "duration": 122,
    "start_time": "2025-05-06T23:30:12.006Z"
   },
   {
    "duration": 3,
    "start_time": "2025-05-06T23:31:05.220Z"
   },
   {
    "duration": 209,
    "start_time": "2025-05-06T23:31:10.530Z"
   },
   {
    "duration": 142,
    "start_time": "2025-05-06T23:33:12.839Z"
   },
   {
    "duration": 143,
    "start_time": "2025-05-06T23:33:41.444Z"
   },
   {
    "duration": 128,
    "start_time": "2025-05-06T23:34:14.277Z"
   },
   {
    "duration": 130,
    "start_time": "2025-05-06T23:34:25.243Z"
   },
   {
    "duration": 574,
    "start_time": "2025-05-06T23:35:12.173Z"
   },
   {
    "duration": 129,
    "start_time": "2025-05-06T23:35:26.440Z"
   },
   {
    "duration": 130,
    "start_time": "2025-05-06T23:36:08.843Z"
   },
   {
    "duration": 223,
    "start_time": "2025-05-06T23:47:14.315Z"
   },
   {
    "duration": 172,
    "start_time": "2025-05-06T23:48:32.589Z"
   },
   {
    "duration": 134,
    "start_time": "2025-05-06T23:48:41.847Z"
   },
   {
    "duration": 155,
    "start_time": "2025-05-06T23:48:50.225Z"
   },
   {
    "duration": 134,
    "start_time": "2025-05-06T23:48:57.846Z"
   },
   {
    "duration": 152,
    "start_time": "2025-05-06T23:49:04.477Z"
   },
   {
    "duration": 136,
    "start_time": "2025-05-06T23:49:12.494Z"
   },
   {
    "duration": 7,
    "start_time": "2025-05-07T00:31:27.188Z"
   },
   {
    "duration": 377,
    "start_time": "2025-05-07T00:32:11.705Z"
   },
   {
    "duration": 10,
    "start_time": "2025-05-07T00:32:31.549Z"
   },
   {
    "duration": 5,
    "start_time": "2025-05-07T00:34:07.261Z"
   },
   {
    "duration": 4,
    "start_time": "2025-05-07T00:34:31.075Z"
   },
   {
    "duration": 135,
    "start_time": "2025-05-07T00:34:43.796Z"
   },
   {
    "duration": 148,
    "start_time": "2025-05-07T00:35:18.302Z"
   },
   {
    "duration": 135,
    "start_time": "2025-05-07T00:38:28.250Z"
   },
   {
    "duration": 18,
    "start_time": "2025-05-07T00:38:30.851Z"
   },
   {
    "duration": 21,
    "start_time": "2025-05-07T00:38:53.472Z"
   },
   {
    "duration": 132,
    "start_time": "2025-05-07T00:40:06.505Z"
   },
   {
    "duration": 91,
    "start_time": "2025-05-07T00:40:30.990Z"
   },
   {
    "duration": 185,
    "start_time": "2025-05-07T00:41:02.467Z"
   },
   {
    "duration": 1032,
    "start_time": "2025-05-07T00:42:02.596Z"
   },
   {
    "duration": 203,
    "start_time": "2025-05-07T00:42:19.280Z"
   },
   {
    "duration": 887,
    "start_time": "2025-05-07T00:42:50.688Z"
   },
   {
    "duration": 7,
    "start_time": "2025-05-07T00:42:51.578Z"
   },
   {
    "duration": 9,
    "start_time": "2025-05-07T00:42:51.590Z"
   },
   {
    "duration": 25,
    "start_time": "2025-05-07T00:42:51.602Z"
   },
   {
    "duration": 15,
    "start_time": "2025-05-07T00:42:51.628Z"
   },
   {
    "duration": 5,
    "start_time": "2025-05-07T00:42:51.645Z"
   },
   {
    "duration": 173,
    "start_time": "2025-05-07T00:42:51.651Z"
   },
   {
    "duration": 209,
    "start_time": "2025-05-07T00:42:51.827Z"
   },
   {
    "duration": 232,
    "start_time": "2025-05-07T00:44:47.727Z"
   },
   {
    "duration": 187,
    "start_time": "2025-05-07T00:45:30.916Z"
   },
   {
    "duration": 173,
    "start_time": "2025-05-07T00:46:36.157Z"
   },
   {
    "duration": 161,
    "start_time": "2025-05-07T00:46:54.360Z"
   },
   {
    "duration": 6,
    "start_time": "2025-05-07T00:48:18.027Z"
   },
   {
    "duration": 5,
    "start_time": "2025-05-07T00:48:33.994Z"
   },
   {
    "duration": 6,
    "start_time": "2025-05-07T00:48:45.596Z"
   },
   {
    "duration": 5,
    "start_time": "2025-05-07T00:49:10.670Z"
   },
   {
    "duration": 5,
    "start_time": "2025-05-07T00:49:44.209Z"
   },
   {
    "duration": 164,
    "start_time": "2025-05-07T00:53:58.571Z"
   },
   {
    "duration": 160,
    "start_time": "2025-05-07T00:54:36.689Z"
   },
   {
    "duration": 2527,
    "start_time": "2025-05-07T16:08:38.673Z"
   },
   {
    "duration": 7,
    "start_time": "2025-05-07T16:08:41.203Z"
   },
   {
    "duration": 8,
    "start_time": "2025-05-07T16:08:41.212Z"
   },
   {
    "duration": 8,
    "start_time": "2025-05-07T16:08:41.222Z"
   },
   {
    "duration": 10,
    "start_time": "2025-05-07T16:08:41.232Z"
   },
   {
    "duration": 5,
    "start_time": "2025-05-07T16:08:41.243Z"
   },
   {
    "duration": 168,
    "start_time": "2025-05-07T16:08:41.250Z"
   },
   {
    "duration": 6,
    "start_time": "2025-05-07T16:08:41.419Z"
   },
   {
    "duration": 5,
    "start_time": "2025-05-07T16:13:44.821Z"
   },
   {
    "duration": 187,
    "start_time": "2025-05-07T16:14:15.112Z"
   },
   {
    "duration": 816,
    "start_time": "2025-05-07T16:15:56.704Z"
   },
   {
    "duration": 130,
    "start_time": "2025-05-07T16:16:22.511Z"
   },
   {
    "duration": 140,
    "start_time": "2025-05-07T16:16:54.474Z"
   },
   {
    "duration": 5,
    "start_time": "2025-05-07T16:17:17.269Z"
   },
   {
    "duration": 130,
    "start_time": "2025-05-07T16:17:27.500Z"
   },
   {
    "duration": 133,
    "start_time": "2025-05-07T16:17:47.021Z"
   },
   {
    "duration": 132,
    "start_time": "2025-05-07T16:18:21.091Z"
   },
   {
    "duration": 150,
    "start_time": "2025-05-07T16:24:19.385Z"
   },
   {
    "duration": 135,
    "start_time": "2025-05-07T16:24:42.499Z"
   },
   {
    "duration": 136,
    "start_time": "2025-05-07T16:41:08.481Z"
   },
   {
    "duration": 174,
    "start_time": "2025-05-07T16:47:10.879Z"
   },
   {
    "duration": 162,
    "start_time": "2025-05-07T16:47:32.554Z"
   },
   {
    "duration": 159,
    "start_time": "2025-05-07T16:51:28.006Z"
   },
   {
    "duration": 163,
    "start_time": "2025-05-07T16:51:53.739Z"
   },
   {
    "duration": 161,
    "start_time": "2025-05-07T16:52:48.101Z"
   },
   {
    "duration": 250,
    "start_time": "2025-05-07T16:54:17.766Z"
   },
   {
    "duration": 155,
    "start_time": "2025-05-07T16:54:56.789Z"
   },
   {
    "duration": 130,
    "start_time": "2025-05-07T16:57:24.815Z"
   },
   {
    "duration": 131,
    "start_time": "2025-05-07T16:57:34.443Z"
   },
   {
    "duration": 155,
    "start_time": "2025-05-07T16:57:57.252Z"
   },
   {
    "duration": 170,
    "start_time": "2025-05-07T17:20:12.484Z"
   },
   {
    "duration": 151,
    "start_time": "2025-05-07T17:20:23.281Z"
   },
   {
    "duration": 8,
    "start_time": "2025-05-07T17:29:20.582Z"
   },
   {
    "duration": 12,
    "start_time": "2025-05-07T17:30:05.953Z"
   },
   {
    "duration": 13,
    "start_time": "2025-05-07T17:46:44.787Z"
   },
   {
    "duration": 10,
    "start_time": "2025-05-07T17:46:54.530Z"
   },
   {
    "duration": 10,
    "start_time": "2025-05-07T17:48:56.441Z"
   },
   {
    "duration": 11,
    "start_time": "2025-05-07T17:49:03.802Z"
   },
   {
    "duration": 9,
    "start_time": "2025-05-07T17:53:05.971Z"
   },
   {
    "duration": 10,
    "start_time": "2025-05-07T17:57:12.501Z"
   },
   {
    "duration": 9,
    "start_time": "2025-05-07T17:57:34.643Z"
   },
   {
    "duration": 836,
    "start_time": "2025-05-07T17:57:41.153Z"
   },
   {
    "duration": 7,
    "start_time": "2025-05-07T17:57:41.992Z"
   },
   {
    "duration": 8,
    "start_time": "2025-05-07T17:57:42.001Z"
   },
   {
    "duration": 8,
    "start_time": "2025-05-07T17:57:42.011Z"
   },
   {
    "duration": 10,
    "start_time": "2025-05-07T17:57:42.021Z"
   },
   {
    "duration": 5,
    "start_time": "2025-05-07T17:57:42.033Z"
   },
   {
    "duration": 196,
    "start_time": "2025-05-07T17:57:42.040Z"
   },
   {
    "duration": 194,
    "start_time": "2025-05-07T17:57:42.238Z"
   },
   {
    "duration": 13,
    "start_time": "2025-05-07T17:57:42.433Z"
   },
   {
    "duration": 9,
    "start_time": "2025-05-07T17:57:42.448Z"
   },
   {
    "duration": 10,
    "start_time": "2025-05-07T17:57:42.459Z"
   },
   {
    "duration": 80,
    "start_time": "2025-05-07T17:57:42.471Z"
   },
   {
    "duration": 10,
    "start_time": "2025-05-07T17:59:57.238Z"
   },
   {
    "duration": 8,
    "start_time": "2025-05-07T18:00:36.775Z"
   },
   {
    "duration": 9,
    "start_time": "2025-05-07T18:00:46.682Z"
   },
   {
    "duration": 9,
    "start_time": "2025-05-07T18:04:22.517Z"
   },
   {
    "duration": 843,
    "start_time": "2025-05-07T18:06:42.234Z"
   },
   {
    "duration": 6,
    "start_time": "2025-05-07T18:06:43.079Z"
   },
   {
    "duration": 9,
    "start_time": "2025-05-07T18:06:43.086Z"
   },
   {
    "duration": 9,
    "start_time": "2025-05-07T18:06:43.097Z"
   },
   {
    "duration": 13,
    "start_time": "2025-05-07T18:06:43.109Z"
   },
   {
    "duration": 5,
    "start_time": "2025-05-07T18:06:43.123Z"
   },
   {
    "duration": 171,
    "start_time": "2025-05-07T18:06:43.130Z"
   },
   {
    "duration": 196,
    "start_time": "2025-05-07T18:06:43.303Z"
   },
   {
    "duration": 12,
    "start_time": "2025-05-07T18:06:43.501Z"
   },
   {
    "duration": 9,
    "start_time": "2025-05-07T18:06:43.515Z"
   },
   {
    "duration": 9,
    "start_time": "2025-05-07T18:06:43.526Z"
   },
   {
    "duration": 5,
    "start_time": "2025-05-07T18:20:02.445Z"
   },
   {
    "duration": 7,
    "start_time": "2025-05-07T18:21:38.028Z"
   },
   {
    "duration": 11,
    "start_time": "2025-05-07T18:21:48.676Z"
   },
   {
    "duration": 17,
    "start_time": "2025-05-07T18:21:59.736Z"
   },
   {
    "duration": 6,
    "start_time": "2025-05-07T18:25:26.388Z"
   },
   {
    "duration": 147,
    "start_time": "2025-05-07T18:26:38.225Z"
   },
   {
    "duration": 840,
    "start_time": "2025-05-07T18:26:47.643Z"
   },
   {
    "duration": 7,
    "start_time": "2025-05-07T18:26:48.485Z"
   },
   {
    "duration": 9,
    "start_time": "2025-05-07T18:26:48.493Z"
   },
   {
    "duration": 7,
    "start_time": "2025-05-07T18:26:48.504Z"
   },
   {
    "duration": 10,
    "start_time": "2025-05-07T18:26:48.513Z"
   },
   {
    "duration": 4,
    "start_time": "2025-05-07T18:26:48.525Z"
   },
   {
    "duration": 179,
    "start_time": "2025-05-07T18:26:48.531Z"
   },
   {
    "duration": 200,
    "start_time": "2025-05-07T18:26:48.711Z"
   },
   {
    "duration": 14,
    "start_time": "2025-05-07T18:26:48.913Z"
   },
   {
    "duration": 9,
    "start_time": "2025-05-07T18:26:48.928Z"
   },
   {
    "duration": 8,
    "start_time": "2025-05-07T18:26:48.939Z"
   },
   {
    "duration": 5,
    "start_time": "2025-05-07T18:26:48.948Z"
   },
   {
    "duration": 6,
    "start_time": "2025-05-07T18:28:18.095Z"
   },
   {
    "duration": 5,
    "start_time": "2025-05-07T18:28:28.946Z"
   },
   {
    "duration": 5,
    "start_time": "2025-05-07T18:30:01.163Z"
   },
   {
    "duration": 840,
    "start_time": "2025-05-07T18:49:28.206Z"
   },
   {
    "duration": 4,
    "start_time": "2025-05-07T18:49:49.481Z"
   },
   {
    "duration": 151,
    "start_time": "2025-05-07T18:50:01.083Z"
   },
   {
    "duration": 7,
    "start_time": "2025-05-07T18:50:26.889Z"
   },
   {
    "duration": 4,
    "start_time": "2025-05-07T18:51:17.571Z"
   },
   {
    "duration": 19,
    "start_time": "2025-05-07T18:53:31.535Z"
   },
   {
    "duration": 15,
    "start_time": "2025-05-07T18:53:40.015Z"
   },
   {
    "duration": 3,
    "start_time": "2025-05-07T18:54:51.790Z"
   },
   {
    "duration": 14,
    "start_time": "2025-05-07T18:55:00.250Z"
   },
   {
    "duration": 13,
    "start_time": "2025-05-07T18:55:31.239Z"
   },
   {
    "duration": 3,
    "start_time": "2025-05-07T18:55:55.269Z"
   },
   {
    "duration": 13,
    "start_time": "2025-05-07T18:56:04.394Z"
   },
   {
    "duration": 135,
    "start_time": "2025-05-07T19:02:36.794Z"
   },
   {
    "duration": 6,
    "start_time": "2025-05-07T19:03:45.060Z"
   },
   {
    "duration": 7,
    "start_time": "2025-05-07T19:06:36.398Z"
   },
   {
    "duration": 11,
    "start_time": "2025-05-07T19:06:51.295Z"
   },
   {
    "duration": 6,
    "start_time": "2025-05-07T19:06:58.314Z"
   },
   {
    "duration": 7,
    "start_time": "2025-05-07T19:31:04.548Z"
   },
   {
    "duration": 6,
    "start_time": "2025-05-07T19:32:41.229Z"
   },
   {
    "duration": 8,
    "start_time": "2025-05-07T19:32:58.175Z"
   },
   {
    "duration": 4,
    "start_time": "2025-05-07T19:33:29.260Z"
   },
   {
    "duration": 4,
    "start_time": "2025-05-07T19:34:12.703Z"
   },
   {
    "duration": 4,
    "start_time": "2025-05-07T19:36:12.915Z"
   },
   {
    "duration": 6,
    "start_time": "2025-05-07T19:39:09.813Z"
   },
   {
    "duration": 4,
    "start_time": "2025-05-07T19:45:26.720Z"
   },
   {
    "duration": 8,
    "start_time": "2025-05-07T19:45:39.012Z"
   },
   {
    "duration": 6,
    "start_time": "2025-05-07T19:47:07.043Z"
   },
   {
    "duration": 9,
    "start_time": "2025-05-07T19:48:36.213Z"
   },
   {
    "duration": 6,
    "start_time": "2025-05-07T19:48:59.880Z"
   },
   {
    "duration": 5,
    "start_time": "2025-05-07T19:58:26.451Z"
   },
   {
    "duration": 840,
    "start_time": "2025-05-07T19:58:35.140Z"
   },
   {
    "duration": 7,
    "start_time": "2025-05-07T19:58:35.982Z"
   },
   {
    "duration": 14,
    "start_time": "2025-05-07T19:58:35.991Z"
   },
   {
    "duration": 8,
    "start_time": "2025-05-07T19:58:36.009Z"
   },
   {
    "duration": 9,
    "start_time": "2025-05-07T19:58:36.019Z"
   },
   {
    "duration": 4,
    "start_time": "2025-05-07T19:58:36.030Z"
   },
   {
    "duration": 178,
    "start_time": "2025-05-07T19:58:36.036Z"
   },
   {
    "duration": 191,
    "start_time": "2025-05-07T19:58:36.216Z"
   },
   {
    "duration": 13,
    "start_time": "2025-05-07T19:58:36.409Z"
   },
   {
    "duration": 9,
    "start_time": "2025-05-07T19:58:36.424Z"
   },
   {
    "duration": 8,
    "start_time": "2025-05-07T19:58:36.434Z"
   },
   {
    "duration": 5,
    "start_time": "2025-05-07T19:58:36.444Z"
   },
   {
    "duration": 5,
    "start_time": "2025-05-07T19:58:36.450Z"
   },
   {
    "duration": 6,
    "start_time": "2025-05-07T19:58:36.457Z"
   },
   {
    "duration": 23,
    "start_time": "2025-05-07T19:58:36.466Z"
   }
  ],
  "kernelspec": {
   "display_name": "Python [conda env:base] *",
   "language": "python",
   "name": "conda-base-py"
  },
  "language_info": {
   "codemirror_mode": {
    "name": "ipython",
    "version": 3
   },
   "file_extension": ".py",
   "mimetype": "text/x-python",
   "name": "python",
   "nbconvert_exporter": "python",
   "pygments_lexer": "ipython3",
   "version": "3.12.7"
  },
  "toc": {
   "base_numbering": 1,
   "nav_menu": {},
   "number_sections": true,
   "sideBar": true,
   "skip_h1_title": true,
   "title_cell": "Table of Contents",
   "title_sidebar": "Contents",
   "toc_cell": false,
   "toc_position": {},
   "toc_section_display": true,
   "toc_window_display": false
  }
 },
 "nbformat": 4,
 "nbformat_minor": 4
}
